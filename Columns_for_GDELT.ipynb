{
 "cells": [
  {
   "cell_type": "markdown",
   "metadata": {},
   "source": [
    "## EVENT TABLE\n",
    "\n",
    "https://bigquery.cloud.google.com/table/gdelt-bq:gdeltv2.events"
   ]
  },
  {
   "cell_type": "code",
   "execution_count": 6,
   "metadata": {},
   "outputs": [],
   "source": [
    "List_event= [\"GLOBALEVENTID\",\"Day\",\"MonthYear\",\"Year\",\"FractionDate\",\"Actor1Code\",\"Actor1Name\",\"Actor1CountryCode\",\"Actor1KnownGroupCode\",\"Actor1EthnicCode\",\"Actor1Religion1Code\",\"Actor1Religion2Code\",\"Actor1Type1Code\",\"Actor1Type2Code\",\"Actor1Type3Code\",\"Actor2Code\",\"Actor2Name\",\"Actor2CountryCode\",\"Actor2KnownGroupCode\",\"Actor2EthnicCode\",\"Actor2Religion1Code\",\"Actor2Religion2Code\",\"Actor2Type1Code\",\"Actor2Type2Code\",\"Actor2Type3Code\",\"IsRootEvent\",\"EventCode\",\"EventBaseCode\",\"EventRootCode\",\"QuadClass\",\"GoldsteinScale\",\"NumMentions\",\"NumSources\",\"NumArticles\",\"AvgTone\",\"Actor1Geo_Type\",\"Actor1Geo_FullName\",\"Actor1Geo_CountryCode\",\"Actor1Geo_ADM1Code\",\"Actor1Geo_ADM2Code\",\"Actor1Geo_Lat\",\"Actor1Geo_Long\",\"Actor1Geo_FeatureID\",\"Actor2Geo_Type\",\"Actor2Geo_FullName\",\"Actor2Geo_CountryCode\",\"Actor2Geo_ADM1Code\",\"Actor2Geo_ADM2Code\",\"Actor2Geo_Lat\",\"Actor2Geo_Long\",\"Actor2Geo_FeatureID\",\"ActionGeo_Type\",\"ActionGeo_FullName\",\"ActionGeo_CountryCode\",\"ActionGeo_ADM1Code\",\"ActionGeo_ADM2Code\",\"ActionGeo_Lat\",\"ActionGeo_Long\",\"ActionGeo_FeatureID\",\"DATEADDED\",\"SOURCEURL\"]"
   ]
  },
  {
   "cell_type": "code",
   "execution_count": 2,
   "metadata": {},
   "outputs": [
    {
     "data": {
      "text/plain": [
       "61"
      ]
     },
     "execution_count": 2,
     "metadata": {},
     "output_type": "execute_result"
    }
   ],
   "source": [
    "len(List_event)"
   ]
  },
  {
   "cell_type": "code",
   "execution_count": 13,
   "metadata": {},
   "outputs": [
    {
     "name": "stdout",
     "output_type": "stream",
     "text": [
      ".withColumn(\"GLOBALEVENTID\", split($\"value\", \"\\\\t\").getItem(0))\n",
      ".withColumn(\"Day\", split($\"value\", \"\\\\t\").getItem(1))\n",
      ".withColumn(\"MonthYear\", split($\"value\", \"\\\\t\").getItem(2))\n",
      ".withColumn(\"Year\", split($\"value\", \"\\\\t\").getItem(3))\n",
      ".withColumn(\"FractionDate\", split($\"value\", \"\\\\t\").getItem(4))\n",
      ".withColumn(\"Actor1Code\", split($\"value\", \"\\\\t\").getItem(5))\n",
      ".withColumn(\"Actor1Name\", split($\"value\", \"\\\\t\").getItem(6))\n",
      ".withColumn(\"Actor1CountryCode\", split($\"value\", \"\\\\t\").getItem(7))\n",
      ".withColumn(\"Actor1KnownGroupCode\", split($\"value\", \"\\\\t\").getItem(8))\n",
      ".withColumn(\"Actor1EthnicCode\", split($\"value\", \"\\\\t\").getItem(9))\n",
      ".withColumn(\"Actor1Religion1Code\", split($\"value\", \"\\\\t\").getItem(10))\n",
      ".withColumn(\"Actor1Religion2Code\", split($\"value\", \"\\\\t\").getItem(11))\n",
      ".withColumn(\"Actor1Type1Code\", split($\"value\", \"\\\\t\").getItem(12))\n",
      ".withColumn(\"Actor1Type2Code\", split($\"value\", \"\\\\t\").getItem(13))\n",
      ".withColumn(\"Actor1Type3Code\", split($\"value\", \"\\\\t\").getItem(14))\n",
      ".withColumn(\"Actor2Code\", split($\"value\", \"\\\\t\").getItem(15))\n",
      ".withColumn(\"Actor2Name\", split($\"value\", \"\\\\t\").getItem(16))\n",
      ".withColumn(\"Actor2CountryCode\", split($\"value\", \"\\\\t\").getItem(17))\n",
      ".withColumn(\"Actor2KnownGroupCode\", split($\"value\", \"\\\\t\").getItem(18))\n",
      ".withColumn(\"Actor2EthnicCode\", split($\"value\", \"\\\\t\").getItem(19))\n",
      ".withColumn(\"Actor2Religion1Code\", split($\"value\", \"\\\\t\").getItem(20))\n",
      ".withColumn(\"Actor2Religion2Code\", split($\"value\", \"\\\\t\").getItem(21))\n",
      ".withColumn(\"Actor2Type1Code\", split($\"value\", \"\\\\t\").getItem(22))\n",
      ".withColumn(\"Actor2Type2Code\", split($\"value\", \"\\\\t\").getItem(23))\n",
      ".withColumn(\"Actor2Type3Code\", split($\"value\", \"\\\\t\").getItem(24))\n",
      ".withColumn(\"IsRootEvent\", split($\"value\", \"\\\\t\").getItem(25))\n",
      ".withColumn(\"EventCode\", split($\"value\", \"\\\\t\").getItem(26))\n",
      ".withColumn(\"EventBaseCode\", split($\"value\", \"\\\\t\").getItem(27))\n",
      ".withColumn(\"EventRootCode\", split($\"value\", \"\\\\t\").getItem(28))\n",
      ".withColumn(\"QuadClass\", split($\"value\", \"\\\\t\").getItem(29))\n",
      ".withColumn(\"GoldsteinScale\", split($\"value\", \"\\\\t\").getItem(30))\n",
      ".withColumn(\"NumMentions\", split($\"value\", \"\\\\t\").getItem(31))\n",
      ".withColumn(\"NumSources\", split($\"value\", \"\\\\t\").getItem(32))\n",
      ".withColumn(\"NumArticles\", split($\"value\", \"\\\\t\").getItem(33))\n",
      ".withColumn(\"AvgTone\", split($\"value\", \"\\\\t\").getItem(34))\n",
      ".withColumn(\"Actor1Geo_Type\", split($\"value\", \"\\\\t\").getItem(35))\n",
      ".withColumn(\"Actor1Geo_FullName\", split($\"value\", \"\\\\t\").getItem(36))\n",
      ".withColumn(\"Actor1Geo_CountryCode\", split($\"value\", \"\\\\t\").getItem(37))\n",
      ".withColumn(\"Actor1Geo_ADM1Code\", split($\"value\", \"\\\\t\").getItem(38))\n",
      ".withColumn(\"Actor1Geo_ADM2Code\", split($\"value\", \"\\\\t\").getItem(39))\n",
      ".withColumn(\"Actor1Geo_Lat\", split($\"value\", \"\\\\t\").getItem(40))\n",
      ".withColumn(\"Actor1Geo_Long\", split($\"value\", \"\\\\t\").getItem(41))\n",
      ".withColumn(\"Actor1Geo_FeatureID\", split($\"value\", \"\\\\t\").getItem(42))\n",
      ".withColumn(\"Actor2Geo_Type\", split($\"value\", \"\\\\t\").getItem(43))\n",
      ".withColumn(\"Actor2Geo_FullName\", split($\"value\", \"\\\\t\").getItem(44))\n",
      ".withColumn(\"Actor2Geo_CountryCode\", split($\"value\", \"\\\\t\").getItem(45))\n",
      ".withColumn(\"Actor2Geo_ADM1Code\", split($\"value\", \"\\\\t\").getItem(46))\n",
      ".withColumn(\"Actor2Geo_ADM2Code\", split($\"value\", \"\\\\t\").getItem(47))\n",
      ".withColumn(\"Actor2Geo_Lat\", split($\"value\", \"\\\\t\").getItem(48))\n",
      ".withColumn(\"Actor2Geo_Long\", split($\"value\", \"\\\\t\").getItem(49))\n",
      ".withColumn(\"Actor2Geo_FeatureID\", split($\"value\", \"\\\\t\").getItem(50))\n",
      ".withColumn(\"ActionGeo_Type\", split($\"value\", \"\\\\t\").getItem(51))\n",
      ".withColumn(\"ActionGeo_FullName\", split($\"value\", \"\\\\t\").getItem(52))\n",
      ".withColumn(\"ActionGeo_CountryCode\", split($\"value\", \"\\\\t\").getItem(53))\n",
      ".withColumn(\"ActionGeo_ADM1Code\", split($\"value\", \"\\\\t\").getItem(54))\n",
      ".withColumn(\"ActionGeo_ADM2Code\", split($\"value\", \"\\\\t\").getItem(55))\n",
      ".withColumn(\"ActionGeo_Lat\", split($\"value\", \"\\\\t\").getItem(56))\n",
      ".withColumn(\"ActionGeo_Long\", split($\"value\", \"\\\\t\").getItem(57))\n",
      ".withColumn(\"ActionGeo_FeatureID\", split($\"value\", \"\\\\t\").getItem(58))\n",
      ".withColumn(\"DATEADDED\", split($\"value\", \"\\\\t\").getItem(59))\n",
      ".withColumn(\"SOURCEURL\", split($\"value\", \"\\\\t\").getItem(60))\n"
     ]
    }
   ],
   "source": [
    "for i in range(len(List_event)):\n",
    "    print(\".withColumn(\\\"\"+ List_event[i]+ \"\\\", split($\\\"value\\\", \\\"\\\\\\\\t\\\").getItem(\"+ str(i) + \"))\")"
   ]
  },
  {
   "cell_type": "markdown",
   "metadata": {},
   "source": [
    "## Global Knowledge Graph\n",
    "\n",
    "https://bigquery.cloud.google.com/table/gdelt-bq:gdeltv2.gkg?tab=schema"
   ]
  },
  {
   "cell_type": "code",
   "execution_count": 14,
   "metadata": {},
   "outputs": [],
   "source": [
    "\n",
    "\n",
    "List_gkg=[\"GKGRECORDID\",\"DATE\",\"SourceCollectionIdentifier\",\"SourceCommonName\",\"DocumentIdentifier\",\"Counts\",\"V2Counts\",\"Themes\",\"V2Themes\",\"Locations\",\"V2Locations\",\"Persons\",\"V2Persons\",\"Organizations\",\"V2Organizations\",\"V2Tone\",\"Dates\",\"GCAM\",\"SharingImage\",\"RelatedImages\",\"SocialImageEmbeds\",\"SocialVideoEmbeds\",\"Quotations\",\"AllNames\",\"Amounts\",\"TranslationInfo\",\"Extras\"] \n"
   ]
  },
  {
   "cell_type": "code",
   "execution_count": 15,
   "metadata": {},
   "outputs": [
    {
     "name": "stdout",
     "output_type": "stream",
     "text": [
      ".withColumn(\"GKGRECORDID\", split($\"value\", \"\\\\t\").getItem(0))\n",
      ".withColumn(\"DATE\", split($\"value\", \"\\\\t\").getItem(1))\n",
      ".withColumn(\"SourceCollectionIdentifier\", split($\"value\", \"\\\\t\").getItem(2))\n",
      ".withColumn(\"SourceCommonName\", split($\"value\", \"\\\\t\").getItem(3))\n",
      ".withColumn(\"DocumentIdentifier\", split($\"value\", \"\\\\t\").getItem(4))\n",
      ".withColumn(\"Counts\", split($\"value\", \"\\\\t\").getItem(5))\n",
      ".withColumn(\"V2Counts\", split($\"value\", \"\\\\t\").getItem(6))\n",
      ".withColumn(\"Themes\", split($\"value\", \"\\\\t\").getItem(7))\n",
      ".withColumn(\"V2Themes\", split($\"value\", \"\\\\t\").getItem(8))\n",
      ".withColumn(\"Locations\", split($\"value\", \"\\\\t\").getItem(9))\n",
      ".withColumn(\"V2Locations\", split($\"value\", \"\\\\t\").getItem(10))\n",
      ".withColumn(\"Persons\", split($\"value\", \"\\\\t\").getItem(11))\n",
      ".withColumn(\"V2Persons\", split($\"value\", \"\\\\t\").getItem(12))\n",
      ".withColumn(\"Organizations\", split($\"value\", \"\\\\t\").getItem(13))\n",
      ".withColumn(\"V2Organizations\", split($\"value\", \"\\\\t\").getItem(14))\n",
      ".withColumn(\"V2Tone\", split($\"value\", \"\\\\t\").getItem(15))\n",
      ".withColumn(\"Dates\", split($\"value\", \"\\\\t\").getItem(16))\n",
      ".withColumn(\"GCAM\", split($\"value\", \"\\\\t\").getItem(17))\n",
      ".withColumn(\"SharingImage\", split($\"value\", \"\\\\t\").getItem(18))\n",
      ".withColumn(\"RelatedImages\", split($\"value\", \"\\\\t\").getItem(19))\n",
      ".withColumn(\"SocialImageEmbeds\", split($\"value\", \"\\\\t\").getItem(20))\n",
      ".withColumn(\"SocialVideoEmbeds\", split($\"value\", \"\\\\t\").getItem(21))\n",
      ".withColumn(\"Quotations\", split($\"value\", \"\\\\t\").getItem(22))\n",
      ".withColumn(\"AllNames\", split($\"value\", \"\\\\t\").getItem(23))\n",
      ".withColumn(\"Amounts\", split($\"value\", \"\\\\t\").getItem(24))\n",
      ".withColumn(\"TranslationInfo\", split($\"value\", \"\\\\t\").getItem(25))\n",
      ".withColumn(\"Extras\", split($\"value\", \"\\\\t\").getItem(26))\n"
     ]
    }
   ],
   "source": [
    "for i in range(len(List_gkg)):\n",
    "    print(\".withColumn(\\\"\"+ List_gkg[i]+ \"\\\", split($\\\"value\\\", \\\"\\\\\\\\t\\\").getItem(\"+ str(i) + \"))\")"
   ]
  },
  {
   "cell_type": "markdown",
   "metadata": {},
   "source": [
    "## Mention\n",
    "\n",
    "https://bigquery.cloud.google.com/table/gdelt-bq:gdeltv2.eventmentions?tab=schema"
   ]
  },
  {
   "cell_type": "code",
   "execution_count": 16,
   "metadata": {},
   "outputs": [],
   "source": [
    "List_mention=[\"GLOBALEVENTID\",\"EventTimeDate\",\"MentionTimeDate\",\"MentionType\",\"MentionSourceName\",\"MentionIdentifier\",\"SentenceID\",\"Actor1CharOffset\",\"Actor2CharOffset\",\"ActionCharOffset\",\"InRawText\",\"Confidence\",\"MentionDocLen\",\"MentionDocTone\",\"MentionDocTranslationInfo\",\"Extras\"]"
   ]
  },
  {
   "cell_type": "code",
   "execution_count": 17,
   "metadata": {},
   "outputs": [
    {
     "name": "stdout",
     "output_type": "stream",
     "text": [
      ".withColumn(\"GLOBALEVENTID\", split($\"value\", \"\\\\t\").getItem(0))\n",
      ".withColumn(\"EventTimeDate\", split($\"value\", \"\\\\t\").getItem(1))\n",
      ".withColumn(\"MentionTimeDate\", split($\"value\", \"\\\\t\").getItem(2))\n",
      ".withColumn(\"MentionType\", split($\"value\", \"\\\\t\").getItem(3))\n",
      ".withColumn(\"MentionSourceName\", split($\"value\", \"\\\\t\").getItem(4))\n",
      ".withColumn(\"MentionIdentifier\", split($\"value\", \"\\\\t\").getItem(5))\n",
      ".withColumn(\"SentenceID\", split($\"value\", \"\\\\t\").getItem(6))\n",
      ".withColumn(\"Actor1CharOffset\", split($\"value\", \"\\\\t\").getItem(7))\n",
      ".withColumn(\"Actor2CharOffset\", split($\"value\", \"\\\\t\").getItem(8))\n",
      ".withColumn(\"ActionCharOffset\", split($\"value\", \"\\\\t\").getItem(9))\n",
      ".withColumn(\"InRawText\", split($\"value\", \"\\\\t\").getItem(10))\n",
      ".withColumn(\"Confidence\", split($\"value\", \"\\\\t\").getItem(11))\n",
      ".withColumn(\"MentionDocLen\", split($\"value\", \"\\\\t\").getItem(12))\n",
      ".withColumn(\"MentionDocTone\", split($\"value\", \"\\\\t\").getItem(13))\n",
      ".withColumn(\"MentionDocTranslationInfo\", split($\"value\", \"\\\\t\").getItem(14))\n",
      ".withColumn(\"Extras\", split($\"value\", \"\\\\t\").getItem(15))\n"
     ]
    }
   ],
   "source": [
    "for i in range(len(List_mention)):\n",
    "    print(\".withColumn(\\\"\"+ List_mention[i]+ \"\\\", split($\\\"value\\\", \\\"\\\\\\\\t\\\").getItem(\"+ str(i) + \"))\")"
   ]
  },
  {
   "cell_type": "code",
   "execution_count": null,
   "metadata": {},
   "outputs": [],
   "source": []
  }
 ],
 "metadata": {
  "kernelspec": {
   "display_name": "Python 3",
   "language": "python",
   "name": "python3"
  },
  "language_info": {
   "codemirror_mode": {
    "name": "ipython",
    "version": 3
   },
   "file_extension": ".py",
   "mimetype": "text/x-python",
   "name": "python",
   "nbconvert_exporter": "python",
   "pygments_lexer": "ipython3",
   "version": "3.7.3"
  }
 },
 "nbformat": 4,
 "nbformat_minor": 2
}
